{
 "cells": [
  {
   "cell_type": "markdown",
   "metadata": {
    "application/vnd.databricks.v1+cell": {
     "cellMetadata": {},
     "inputWidgets": {},
     "nuid": "753f03de-a1c1-4303-a1ca-226963714104",
     "showTitle": false,
     "tableResultSettingsMap": {},
     "title": ""
    }
   },
   "source": [
    "# **Connecting to the Azure Data Lake Storage using OAuth Token**\n",
    "> ### **Mounting the _source_ container from the ADLS**"
   ]
  },
  {
   "cell_type": "code",
   "execution_count": 0,
   "metadata": {
    "application/vnd.databricks.v1+cell": {
     "cellMetadata": {},
     "inputWidgets": {},
     "nuid": "91f94d4d-5626-4b33-b118-77b93143060c",
     "showTitle": false,
     "tableResultSettingsMap": {},
     "title": ""
    }
   },
   "outputs": [],
   "source": [
    "client_id = dbutils.secrets.get(scope = \"OAuth-Secret-Scope\",key =\"clientid\")\n",
    "client_secret = dbutils.secrets.get(scope = \"OAuth-Secret-Scope\",key =\"clientsecret\")\n",
    "tenant_id = dbutils.secrets.get(scope = \"OAuth-Secret-Scope\",key =\"tenantid\")\n",
    "\n",
    "configs = {\n",
    "    \"fs.azure.account.auth.type\":\"OAuth\",\n",
    "    \"fs.azure.account.oauth.provider.type\":\"org.apache.hadoop.fs.azurebfs.oauth2.ClientCredsTokenProvider\",\n",
    "    \"fs.azure.account.oauth2.client.id\":client_id,\n",
    "    \"fs.azure.account.oauth2.client.secret\":client_secret,\n",
    "    \"fs.azure.account.oauth2.client.endpoint\":\"https://login.microsoftonline.com/\" + tenant_id +\"/oauth2/token\"\n",
    "}\n",
    "\n",
    "dbutils.fs.mount(\n",
    "    source = 'abfss://source@spacexadls.dfs.core.windows.net/',\n",
    "    mount_point = '/mnt/source',\n",
    "    extra_configs= configs\n",
    ")"
   ]
  },
  {
   "cell_type": "markdown",
   "metadata": {
    "application/vnd.databricks.v1+cell": {
     "cellMetadata": {},
     "inputWidgets": {},
     "nuid": "d4ee3387-3ae7-45ab-9bd3-51cf54a6b069",
     "showTitle": false,
     "tableResultSettingsMap": {},
     "title": ""
    }
   },
   "source": [
    "## Implementing the medallion architecture by mounting _Bronze, Silver and Gold_ Layers"
   ]
  },
  {
   "cell_type": "code",
   "execution_count": 0,
   "metadata": {
    "application/vnd.databricks.v1+cell": {
     "cellMetadata": {},
     "inputWidgets": {},
     "nuid": "b5c5aa77-5964-4eb3-9bf7-57277a75fafe",
     "showTitle": false,
     "tableResultSettingsMap": {},
     "title": ""
    }
   },
   "outputs": [],
   "source": [
    "dbutils.fs.mount(\n",
    "    source = 'abfss://bronze@spacexadls.dfs.core.windows.net/',\n",
    "    mount_point = '/mnt/bronze',\n",
    "    extra_configs= configs\n",
    ")\n",
    "\n",
    "dbutils.fs.mount(\n",
    "    source = 'abfss://silver@spacexadls.dfs.core.windows.net/',\n",
    "    mount_point = '/mnt/silver',\n",
    "    extra_configs= configs\n",
    ")\n",
    "\n",
    "dbutils.fs.mount(\n",
    "    source = 'abfss://gold@spacexadls.dfs.core.windows.net/',\n",
    "    mount_point = '/mnt/gold',\n",
    "    extra_configs= configs\n",
    ")"
   ]
  }
 ],
 "metadata": {
  "application/vnd.databricks.v1+notebook": {
   "computePreferences": null,
   "dashboards": [],
   "environmentMetadata": {
    "base_environment": "",
    "environment_version": "2"
   },
   "inputWidgetPreferences": null,
   "language": "python",
   "notebookMetadata": {
    "pythonIndentUnit": 4
   },
   "notebookName": "Mounting ADLS",
   "widgets": {}
  },
  "language_info": {
   "name": "python"
  }
 },
 "nbformat": 4,
 "nbformat_minor": 0
}
